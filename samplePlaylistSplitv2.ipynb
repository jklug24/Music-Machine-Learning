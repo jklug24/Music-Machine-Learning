{
 "cells": [
  {
   "cell_type": "code",
   "execution_count": 23,
   "metadata": {},
   "outputs": [],
   "source": [
    "# Import necessary packages\n",
    "import librosa\n",
    "import librosa.display as ld\n",
    "import matplotlib.pyplot as plt\n",
    "import numpy as np\n",
    "from soundfile import write\n",
    "import math\n",
    "import warnings\n",
    "import itertools\n",
    "from sklearn.preprocessing import StandardScaler\n",
    "from sklearn.mixture import  GaussianMixture\n",
    "from sklearn.decomposition import PCA"
   ]
  },
  {
   "cell_type": "code",
   "execution_count": 13,
   "metadata": {},
   "outputs": [],
   "source": [
    "warnings.filterwarnings(\"ignore\", message=\"PySoundFile failed. Trying audioread instead.\")\n",
    "\n",
    "songs = [\n",
    "    '/home/joe/Music/Playlist/Beach Fossils/Somersault/09 Down the Line.m4a',\n",
    "    '/home/joe/Music/Playlist/Big Thief/Capacity/02 Shark Smile.m4a',\n",
    "    '/home/joe/Music/Playlist/Blue Rain Boots/Good Old Days/01 Good Old Days.m4a',\n",
    "    '/home/joe/Music/Playlist/Blue Rain Boots/River (Acoustic)/01 River (Acoustic).m4a',\n",
    "    '/home/joe/Music/Playlist/Bon Iver/Blood Bank/01 Blood Bank.m4a',\n",
    "    '/home/joe/Music/Playlist/Bon Iver/For Emma, Forever Ago/03 Skinny Love.m4a',\n",
    "    '/home/joe/Music/Playlist/Briston Maroney/Indiana/02 Caroline.m4a',\n",
    "    '/home/joe/Music/Playlist/Cage the Elephant/Thank You Happy Birthday/02 Aberdeen.m4a',\n",
    "    '/home/joe/Music/Playlist/Clairo/Immunity/05 Bags.m4a',\n",
    "    '/home/joe/Music/Playlist/Del Water Gap/1 (646) 943 2672 (Extended Play)/02 Let\\'s Pretend.m4a',\n",
    "    '/home/joe/Music/Playlist/Del Water Gap/1 (646) 943 2672 (Extended Play)/04 High Tops.m4a',\n",
    "    '/home/joe/Music/Playlist/Flipturn/Citrona/02 Six Below.m4a',\n",
    "    '/home/joe/Music/Playlist/Flipturn/Citrona/07 Nickel.m4a',\n",
    "    '/home/joe/Music/Playlist/Grouplove/Spreading Rumours (Deluxe)/12 Raspberry.m4a',\n",
    "    '/home/joe/Music/Playlist/Hop Along/Painted Shut/01 The Knock.m4a',\n",
    "    '/home/joe/Music/Playlist/Hop Along/Painted Shut/03 Horseshoe Crabs.m4a',\n",
    "    '/home/joe/Music/Playlist/illuminati hotties/Kiss Yr Frenemies/03 Shape of My Hands.m4a',\n",
    "    '/home/joe/Music/Playlist/Jelani Aryeh/I\\'ve Got Some Living To Do/07 Stella Brown.m4a',\n",
    "    '/home/joe/Music/Playlist/joe p/Emily Can\\'t Sing/02 Fighting in the Car.m4a',\n",
    "    '/home/joe/Music/Playlist/Modern Baseball/Sports/08 Cooke.m4a',\n",
    "    '/home/joe/Music/Playlist/Phoebe Bridgers/Punisher/03 Kyoto.m4a',\n",
    "    '/home/joe/Music/Playlist/Phoebe Bridgers/Stranger in the Alps/02 Motion Sickness.m4a',\n",
    "    '/home/joe/Music/Playlist/Rainbow Kitten Surprise/Rks/07 Cocaine Jesus.m4a',\n",
    "    '/home/joe/Music/Playlist/Rainbow Kitten Surprise/Seven + Mary/03 First Class.m4a',\n",
    "    '/home/joe/Music/Playlist/Rainbow Kitten Surprise/Seven + Mary/06 Devil Like Me.m4a',\n",
    "    '/home/joe/Music/Playlist/Ratboys/GN/02 Elvis Is in the Freezer.m4a',\n",
    "    '/home/joe/Music/Playlist/Ritt Momney/Young Adult/01 Young Adult.m4a',\n",
    "    '/home/joe/Music/Playlist/Said The Whale/Islands Disappear/04 Camilo - The Magician.m4a',\n",
    "    '/home/joe/Music/Playlist/Shakey Graves/And the War Came/03 Dearly Departed.m4a',\n",
    "    '/home/joe/Music/Playlist/Soccer Mommy/Clean/03 Your Dog.m4a',\n",
    "    '/home/joe/Music/Playlist/Surf Curse/Sad Boys/03 I\\'m Not Making out With You.m4a',\n",
    "    '/home/joe/Music/Playlist/The Backseat Lovers/Elevator Days/01 Out of Tune.m4a',\n",
    "    '/home/joe/Music/Playlist/The Backseat Lovers/Elevator Days/04 Elevator Days.m4a',\n",
    "    '/home/joe/Music/Playlist/The Backseat Lovers/When We Were Friends/01 Watch Your Mouth.m4a',\n",
    "    '/home/joe/Music/Playlist/The Buttertones/Buttertones/01 Dionysus.m4a',\n",
    "    '/home/joe/Music/Playlist/the moss/Bryology/02 Duele Más.m4a',\n",
    "    '/home/joe/Music/Playlist/the moss/Kentucky Derby/01 Secretariat.m4a',\n",
    "    '/home/joe/Music/Playlist/The Strokes/Is This It/01 Is This It.m4a',\n",
    "    '/home/joe/Music/Playlist/The Tallest Man On Earth/Shallow Grave/06 The Gardener.m4a',\n",
    "    '/home/joe/Music/Playlist/The World Is A Beautiful Place & I Am No Longer Afraid To Die/Harmlessness/04 The Word Lisa.m4a',\n",
    "    '/home/joe/Music/Playlist/Wallows/Drunk on Halloween/01 Drunk on Halloween.m4a',\n",
    "    '/home/joe/Music/Playlist/Waxahatchee/Saint Cloud/04 Lilacs.m4a',\n",
    "    '/home/joe/Music/Playlist/WILLIS/Locals 2/05 I Think I Like When It Rains.m4a',\n",
    "    '/home/joe/Music/Playlist/Your Neighbors/Bodega/01 Bodega.m4a',\n",
    "]"
   ]
  },
  {
   "cell_type": "code",
   "execution_count": 18,
   "metadata": {},
   "outputs": [],
   "source": [
    "def summarize(song):\n",
    "    y, sr = librosa.load(song)\n",
    "    chroma_stft = librosa.feature.chroma_stft(y=y, sr=sr)\n",
    "    rmse = librosa.feature.rms(y=y)\n",
    "    spec_cent = librosa.feature.spectral_centroid(y=y, sr=sr)\n",
    "    spec_bw = librosa.feature.spectral_bandwidth(y=y, sr=sr)\n",
    "    rolloff = librosa.feature.spectral_rolloff(y=y, sr=sr)\n",
    "    zcr = librosa.feature.zero_crossing_rate(y)\n",
    "    mfcc = librosa.feature.mfcc(y=y, sr=sr)\n",
    "    return np.concatenate(([chroma_stft.mean(), rmse.mean(), spec_cent.mean(), spec_bw.mean(), rolloff.mean(), zcr.mean()], mfcc.mean(axis=1)))"
   ]
  },
  {
   "cell_type": "code",
   "execution_count": null,
   "metadata": {},
   "outputs": [],
   "source": [
    "songSummaries = np.array([summarize(x) for x in songs])\n",
    "songs = [x[x.rindex('/')+4:] for x in songs]"
   ]
  },
  {
   "cell_type": "code",
   "execution_count": 19,
   "metadata": {},
   "outputs": [],
   "source": [
    "#scaledSummaries = np.array([Standardize(x) for x in songSummaries])\n",
    "\n",
    "scaler = StandardScaler().fit(songSummaries)\n",
    "scaledSummaries = scaler.transform(songSummaries)"
   ]
  },
  {
   "cell_type": "code",
   "execution_count": 37,
   "metadata": {},
   "outputs": [],
   "source": [
    "pca = PCA(svd_solver='full')\n",
    "pca.fit(scaledSummaries)\n",
    "decompSummaries = pca.transform(scaledSummaries)"
   ]
  },
  {
   "cell_type": "code",
   "execution_count": 57,
   "metadata": {},
   "outputs": [
    {
     "data": {
      "text/plain": [
       "<matplotlib.legend.Legend at 0x7f9b899f5cc0>"
      ]
     },
     "execution_count": 57,
     "metadata": {},
     "output_type": "execute_result"
    },
    {
     "data": {
      "image/png": "[encoded data removed]",
      "text/plain": [
       "<Figure size 576x432 with 1 Axes>"
      ]
     },
     "metadata": {
      "needs_background": "light"
     },
     "output_type": "display_data"
    }
   ],
   "source": [
    "lowest_bic = np.infty\n",
    "bic = []\n",
    "n_components_range = range(2, 9)\n",
    "cv_types = [\"spherical\", \"tied\", \"diag\", \"full\"]\n",
    "for cv_type in cv_types:\n",
    "    for n_components in n_components_range:\n",
    "        # Fit a Gaussian mixture with EM\n",
    "        gmm = GaussianMixture(\n",
    "            n_components=n_components, covariance_type=cv_type, random_state=1\n",
    "        )\n",
    "        gmm.fit(decompSummaries)\n",
    "        bic.append(gmm.bic(decompSummaries))\n",
    "        if bic[-1] < lowest_bic:\n",
    "            lowest_bic = bic[-1]\n",
    "            best_gmm = gmm\n",
    "\n",
    "bic = np.array(bic)\n",
    "color_iter = itertools.cycle([\"navy\", \"turquoise\", \"cornflowerblue\", \"darkorange\"])\n",
    "clf = best_gmm\n",
    "bars = []\n",
    "\n",
    "# Plot the BIC scores\n",
    "plt.figure(figsize=(8, 6))\n",
    "spl = plt.subplot(2, 1, 1)\n",
    "for i, (cv_type, color) in enumerate(zip(cv_types, color_iter)):\n",
    "    xpos = np.array(n_components_range) + 0.2 * (i - 2)\n",
    "    bars.append(\n",
    "        plt.bar(\n",
    "            xpos,\n",
    "            bic[i * len(n_components_range) : (i + 1) * len(n_components_range)],\n",
    "            width=0.2,\n",
    "            color=color,\n",
    "        )\n",
    "    )\n",
    "plt.xticks(n_components_range)\n",
    "plt.ylim([bic.min() * 1.01 - 0.01 * bic.max(), bic.max()])\n",
    "plt.title(\"BIC score per model\")\n",
    "xpos = (\n",
    "    np.mod(bic.argmin(), len(n_components_range))\n",
    "    + 0.65\n",
    "    + 0.2 * np.floor(bic.argmin() / len(n_components_range))\n",
    ")\n",
    "spl.set_xlabel(\"Number of components\")\n",
    "spl.legend([b[0] for b in bars], cv_types)"
   ]
  },
  {
   "cell_type": "code",
   "execution_count": 55,
   "metadata": {},
   "outputs": [],
   "source": [
    "Y_ = clf.predict(decompSummaries)"
   ]
  },
  {
   "cell_type": "code",
   "execution_count": 56,
   "metadata": {},
   "outputs": [
    {
     "name": "stdout",
     "output_type": "stream",
     "text": [
      "0\n",
      "['River (Acoustic).m4a' 'Skinny Love.m4a' 'Young Adult.m4a'\n",
      " 'Elevator Days.m4a' 'Is This It.m4a' 'The Gardener.m4a']\n",
      "1\n",
      "['Shark Smile.m4a' 'Blood Bank.m4a' 'Caroline.m4a' 'Nickel.m4a'\n",
      " 'Kyoto.m4a' 'Motion Sickness.m4a' 'Watch Your Mouth.m4a' 'Lilacs.m4a']\n",
      "2\n",
      "['Raspberry.m4a' 'Fighting in the Car.m4a' 'Dearly Departed.m4a'\n",
      " 'Your Dog.m4a' 'Drunk on Halloween.m4a' 'Bodega.m4a']\n",
      "3\n",
      "['Aberdeen.m4a' \"Let's Pretend.m4a\" 'Six Below.m4a' 'The Knock.m4a'\n",
      " 'Horseshoe Crabs.m4a' 'Shape of My Hands.m4a' 'Stella Brown.m4a'\n",
      " 'Elvis Is in the Freezer.m4a' 'Camilo - The Magician.m4a'\n",
      " 'Out of Tune.m4a' 'Duele Más.m4a' 'Secretariat.m4a' 'The Word Lisa.m4a']\n",
      "4\n",
      "['Down the Line.m4a' 'Good Old Days.m4a' 'Bags.m4a' 'High Tops.m4a'\n",
      " 'Cooke.m4a' 'Cocaine Jesus.m4a' 'First Class.m4a' 'Devil Like Me.m4a'\n",
      " \"I'm Not Making out With You.m4a\" 'Dionysus.m4a'\n",
      " 'I Think I Like When It Rains.m4a']\n"
     ]
    }
   ],
   "source": [
    "predSongs = np.array([[songs[x], Y_[x]] for x in range(len(songs))])\n",
    "for attr in np.unique(Y_):\n",
    "    print(attr)\n",
    "    print(predSongs[predSongs[:,1]==str(attr)][:,0])"
   ]
  },
  {
   "cell_type": "code",
   "execution_count": 44,
   "metadata": {},
   "outputs": [],
   "source": [
    "gmm = GaussianMixture(n_components=5, covariance_type='full')\n",
    "gmm.fit(decompSummaries)\n",
    "Y_ = gmm.predict(decompSummaries)"
   ]
  },
  {
   "cell_type": "code",
   "execution_count": 45,
   "metadata": {},
   "outputs": [
    {
     "name": "stdout",
     "output_type": "stream",
     "text": [
      "0\n",
      "['Down the Line.m4a' 'Aberdeen.m4a' 'Six Below.m4a' 'Raspberry.m4a'\n",
      " 'The Knock.m4a' 'Horseshoe Crabs.m4a' 'Shape of My Hands.m4a'\n",
      " 'Camilo - The Magician.m4a' 'Dearly Departed.m4a' 'Your Dog.m4a'\n",
      " 'Drunk on Halloween.m4a']\n",
      "1\n",
      "['Shark Smile.m4a' 'Blood Bank.m4a' 'Caroline.m4a' 'Bags.m4a' 'Nickel.m4a'\n",
      " 'Kyoto.m4a' 'Motion Sickness.m4a' 'Elvis Is in the Freezer.m4a'\n",
      " 'Lilacs.m4a']\n",
      "2\n",
      "['Good Old Days.m4a' 'Cocaine Jesus.m4a' 'First Class.m4a'\n",
      " 'Devil Like Me.m4a' 'I Think I Like When It Rains.m4a']\n",
      "3\n",
      "['River (Acoustic).m4a' 'Skinny Love.m4a' 'Is This It.m4a'\n",
      " 'The Gardener.m4a']\n",
      "4\n",
      "[\"Let's Pretend.m4a\" 'High Tops.m4a' 'Stella Brown.m4a'\n",
      " 'Fighting in the Car.m4a' 'Cooke.m4a' 'Young Adult.m4a'\n",
      " \"I'm Not Making out With You.m4a\" 'Out of Tune.m4a' 'Elevator Days.m4a'\n",
      " 'Watch Your Mouth.m4a' 'Dionysus.m4a' 'Duele Más.m4a' 'Secretariat.m4a'\n",
      " 'The Word Lisa.m4a' 'Bodega.m4a']\n"
     ]
    }
   ],
   "source": [
    "predSongs = np.array([[songs[x], Y_[x]] for x in range(len(songs))])\n",
    "for attr in np.unique(Y_):\n",
    "    print(attr)\n",
    "    print(predSongs[predSongs[:,1]==str(attr)][:,0])"
   ]
  },
  {
   "cell_type": "code",
   "execution_count": null,
   "metadata": {},
   "outputs": [],
   "source": []
  }
 ],
 "metadata": {
  "interpreter": {
   "hash": "e7370f93d1d0cde622a1f8e1c04877d8463912d04d973331ad4851f04de6915a"
  },
  "kernelspec": {
   "display_name": "Python 3.10.5 64-bit",
   "language": "python",
   "name": "python3"
  },
  "language_info": {
   "codemirror_mode": {
    "name": "ipython",
    "version": 3
   },
   "file_extension": ".py",
   "mimetype": "text/x-python",
   "name": "python",
   "nbconvert_exporter": "python",
   "pygments_lexer": "ipython3",
   "version": "3.10.5"
  },
  "orig_nbformat": 4
 },
 "nbformat": 4,
 "nbformat_minor": 2
}
