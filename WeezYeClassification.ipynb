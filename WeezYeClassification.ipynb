{
 "cells": [
  {
   "cell_type": "code",
   "execution_count": 88,
   "metadata": {},
   "outputs": [],
   "source": [
    "# Import necessary packages\n",
    "import librosa\n",
    "import librosa.display as ld\n",
    "import matplotlib.pyplot as plt\n",
    "import numpy as np\n",
    "from soundfile import write\n",
    "import math\n",
    "from sklearn.preprocessing import StandardScaler\n",
    "from sklearn.cluster import KMeans\n",
    "from sklearn.decomposition import PCA"
   ]
  },
  {
   "cell_type": "code",
   "execution_count": 71,
   "metadata": {},
   "outputs": [],
   "source": [
    "songs = [\n",
    "    '../../Songs/Kanye West/Late Registration/13 Diamonds From Sierra Leone (feat. JAY-Z).m4a',\n",
    "    '../../Songs/Kanye West/My Beautiful Dark Twisted Fantasy/08 Devil In a New Dress (feat. Rick Ross).m4a',\n",
    "    '../../Songs/Kanye West/The College Dropout/07 Jesus Walks.m4a',\n",
    "    '../../Songs/Kanye West/The College Dropout/12 Slow Jamz.m4a',\n",
    "    '../../Songs/Kanye West/ye/06 Ghost Town (feat. PARTYNEXTDOOR).m4a',\n",
    "    '../../Songs/Kanye West/Yeezus/05 Hold My Liquor.m4a',\n",
    "    '../../Songs/Weezer/Make Believe/01 Beverly Hills.m4a',\n",
    "    '../../Songs/Weezer/Pinkerton/01 Tired of Sex.m4a',\n",
    "    '../../Songs/Weezer/Pinkerton/08 Pink Triangle.m4a',\n",
    "    '../../Songs/Weezer/Weezer/04 Buddy Holly.m4a',\n",
    "    '../../Songs/Weezer/Weezer/07 Say It Ain\\'t So.m4a',\n",
    "    '../../Songs/Weezer/Weezer/09 Holiday.m4a'\n",
    "]"
   ]
  },
  {
   "cell_type": "code",
   "execution_count": 74,
   "metadata": {},
   "outputs": [],
   "source": [
    "def summarize(song):\n",
    "    y, _ = librosa.load(song)\n",
    "    RMS = librosa.feature.rms(y=y)\n",
    "    ZCR = librosa.feature.zero_crossing_rate(y = y)\n",
    "    Spec = librosa.feature.melspectrogram(y=y)\n",
    "    Spec = librosa.amplitude_to_db(Spec)\n",
    "    MFCC = librosa.feature.mfcc(y=y)\n",
    "    Chroma = librosa.feature.chroma_stft(y=y, sr=sr)\n",
    "    return np.concatenate(([RMS.mean(), RMS.var(), ZCR.mean(), ZCR.var()], Chroma.mean(axis=1), Chroma.var(axis=1), MFCC.mean(axis=1), MFCC.var(axis=1)))\n",
    "    "
   ]
  },
  {
   "cell_type": "code",
   "execution_count": null,
   "metadata": {},
   "outputs": [],
   "source": [
    "songSummaries = np.array([summarize(x) for x in songs])"
   ]
  },
  {
   "cell_type": "code",
   "execution_count": 148,
   "metadata": {},
   "outputs": [],
   "source": [
    "scaler = StandardScaler().fit(songSummaries)\n",
    "scaledSummaries = scaler.transform(songSummaries)"
   ]
  },
  {
   "cell_type": "code",
   "execution_count": 149,
   "metadata": {},
   "outputs": [
    {
     "data": {
      "text/plain": [
       "array([0, 0, 0, 0, 0, 0, 1, 1, 1, 1, 1, 1], dtype=int32)"
      ]
     },
     "execution_count": 149,
     "metadata": {},
     "output_type": "execute_result"
    }
   ],
   "source": [
    "kmeans = KMeans(n_clusters=2, init='random').fit(scaledSummaries)\n",
    "kmeans.labels_"
   ]
  },
  {
   "cell_type": "code",
   "execution_count": 150,
   "metadata": {},
   "outputs": [
    {
     "data": {
      "text/plain": [
       "<matplotlib.collections.PathCollection at 0x7f5b83102f80>"
      ]
     },
     "execution_count": 150,
     "metadata": {},
     "output_type": "execute_result"
    },
    {
     "data": {
      "image/png": "[encoded data removed]",
      "text/plain": [
       "<Figure size 432x288 with 1 Axes>"
      ]
     },
     "metadata": {
      "needs_background": "light"
     },
     "output_type": "display_data"
    }
   ],
   "source": [
    "pca = PCA(svd_solver='full')\n",
    "pca.fit(scaledSummaries, )\n",
    "transform = pca.transform(scaledSummaries)\n",
    "plt.scatter(transform[:,0], transform[:,1], c=kmeans.labels_)\n"
   ]
  },
  {
   "cell_type": "code",
   "execution_count": null,
   "metadata": {},
   "outputs": [],
   "source": []
  }
 ],
 "metadata": {
  "interpreter": {
   "hash": "e7370f93d1d0cde622a1f8e1c04877d8463912d04d973331ad4851f04de6915a"
  },
  "kernelspec": {
   "display_name": "Python 3.10.5 64-bit",
   "language": "python",
   "name": "python3"
  },
  "language_info": {
   "codemirror_mode": {
    "name": "ipython",
    "version": 3
   },
   "file_extension": ".py",
   "mimetype": "text/x-python",
   "name": "python",
   "nbconvert_exporter": "python",
   "pygments_lexer": "ipython3",
   "version": "3.10.5"
  },
  "orig_nbformat": 4
 },
 "nbformat": 4,
 "nbformat_minor": 2
}
