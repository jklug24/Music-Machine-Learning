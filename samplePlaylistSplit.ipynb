{
 "cells": [
  {
   "cell_type": "code",
   "execution_count": 3,
   "metadata": {},
   "outputs": [],
   "source": [
    "# Import necessary packages\n",
    "import librosa\n",
    "import librosa.display as ld\n",
    "import matplotlib.pyplot as plt\n",
    "import numpy as np\n",
    "from soundfile import write\n",
    "import math\n",
    "import warnings\n",
    "import itertools\n",
    "from sklearn.preprocessing import StandardScaler\n",
    "from sklearn.mixture import  GaussianMixture"
   ]
  },
  {
   "cell_type": "code",
   "execution_count": 4,
   "metadata": {},
   "outputs": [],
   "source": [
    "warnings.filterwarnings(\"ignore\", message=\"PySoundFile failed. Trying audioread instead.\")\n",
    "\n",
    "songs = [\n",
    "    '/home/joe/Music/Playlist/Beach Fossils/Somersault/09 Down the Line.m4a',\n",
    "    '/home/joe/Music/Playlist/Big Thief/Capacity/02 Shark Smile.m4a',\n",
    "    '/home/joe/Music/Playlist/Blue Rain Boots/Good Old Days/01 Good Old Days.m4a',\n",
    "    '/home/joe/Music/Playlist/Blue Rain Boots/River (Acoustic)/01 River (Acoustic).m4a',\n",
    "    '/home/joe/Music/Playlist/Bon Iver/Blood Bank/01 Blood Bank.m4a',\n",
    "    '/home/joe/Music/Playlist/Bon Iver/For Emma, Forever Ago/03 Skinny Love.m4a',\n",
    "    '/home/joe/Music/Playlist/Briston Maroney/Indiana/02 Caroline.m4a',\n",
    "    '/home/joe/Music/Playlist/Cage the Elephant/Thank You Happy Birthday/02 Aberdeen.m4a',\n",
    "    '/home/joe/Music/Playlist/Clairo/Immunity/05 Bags.m4a',\n",
    "    '/home/joe/Music/Playlist/Del Water Gap/1 (646) 943 2672 (Extended Play)/02 Let\\'s Pretend.m4a',\n",
    "    '/home/joe/Music/Playlist/Del Water Gap/1 (646) 943 2672 (Extended Play)/04 High Tops.m4a',\n",
    "    '/home/joe/Music/Playlist/Flipturn/Citrona/02 Six Below.m4a',\n",
    "    '/home/joe/Music/Playlist/Flipturn/Citrona/07 Nickel.m4a',\n",
    "    '/home/joe/Music/Playlist/Grouplove/Spreading Rumours (Deluxe)/12 Raspberry.m4a',\n",
    "    '/home/joe/Music/Playlist/Hop Along/Painted Shut/01 The Knock.m4a',\n",
    "    '/home/joe/Music/Playlist/Hop Along/Painted Shut/03 Horseshoe Crabs.m4a',\n",
    "    '/home/joe/Music/Playlist/illuminati hotties/Kiss Yr Frenemies/03 Shape of My Hands.m4a',\n",
    "    '/home/joe/Music/Playlist/Jelani Aryeh/I\\'ve Got Some Living To Do/07 Stella Brown.m4a',\n",
    "    '/home/joe/Music/Playlist/joe p/Emily Can\\'t Sing/02 Fighting in the Car.m4a',\n",
    "    '/home/joe/Music/Playlist/Modern Baseball/Sports/08 Cooke.m4a',\n",
    "    '/home/joe/Music/Playlist/Phoebe Bridgers/Punisher/03 Kyoto.m4a',\n",
    "    '/home/joe/Music/Playlist/Phoebe Bridgers/Stranger in the Alps/02 Motion Sickness.m4a',\n",
    "    '/home/joe/Music/Playlist/Rainbow Kitten Surprise/Rks/07 Cocaine Jesus.m4a',\n",
    "    '/home/joe/Music/Playlist/Rainbow Kitten Surprise/Seven + Mary/03 First Class.m4a',\n",
    "    '/home/joe/Music/Playlist/Rainbow Kitten Surprise/Seven + Mary/06 Devil Like Me.m4a',\n",
    "    '/home/joe/Music/Playlist/Ratboys/GN/02 Elvis Is in the Freezer.m4a',\n",
    "    '/home/joe/Music/Playlist/Ritt Momney/Young Adult/01 Young Adult.m4a',\n",
    "    '/home/joe/Music/Playlist/Said The Whale/Islands Disappear/04 Camilo - The Magician.m4a',\n",
    "    '/home/joe/Music/Playlist/Shakey Graves/And the War Came/03 Dearly Departed.m4a',\n",
    "    '/home/joe/Music/Playlist/Soccer Mommy/Clean/03 Your Dog.m4a',\n",
    "    '/home/joe/Music/Playlist/Surf Curse/Sad Boys/03 I\\'m Not Making out With You.m4a',\n",
    "    '/home/joe/Music/Playlist/The Backseat Lovers/Elevator Days/01 Out of Tune.m4a',\n",
    "    '/home/joe/Music/Playlist/The Backseat Lovers/Elevator Days/04 Elevator Days.m4a',\n",
    "    '/home/joe/Music/Playlist/The Backseat Lovers/When We Were Friends/01 Watch Your Mouth.m4a',\n",
    "    '/home/joe/Music/Playlist/The Buttertones/Buttertones/01 Dionysus.m4a',\n",
    "    '/home/joe/Music/Playlist/the moss/Bryology/02 Duele Más.m4a',\n",
    "    '/home/joe/Music/Playlist/the moss/Kentucky Derby/01 Secretariat.m4a',\n",
    "    '/home/joe/Music/Playlist/The Strokes/Is This It/01 Is This It.m4a',\n",
    "    '/home/joe/Music/Playlist/The Tallest Man On Earth/Shallow Grave/06 The Gardener.m4a',\n",
    "    '/home/joe/Music/Playlist/The World Is A Beautiful Place & I Am No Longer Afraid To Die/Harmlessness/04 The Word Lisa.m4a',\n",
    "    '/home/joe/Music/Playlist/Wallows/Drunk on Halloween/01 Drunk on Halloween.m4a',\n",
    "    '/home/joe/Music/Playlist/Waxahatchee/Saint Cloud/04 Lilacs.m4a',\n",
    "    '/home/joe/Music/Playlist/WILLIS/Locals 2/05 I Think I Like When It Rains.m4a',\n",
    "    '/home/joe/Music/Playlist/Your Neighbors/Bodega/01 Bodega.m4a',\n",
    "]"
   ]
  },
  {
   "cell_type": "code",
   "execution_count": 5,
   "metadata": {},
   "outputs": [],
   "source": [
    "def summarize(song):\n",
    "    y, _ = librosa.load(song)\n",
    "    RMS = librosa.feature.rms(y=y)\n",
    "    ZCR = librosa.feature.zero_crossing_rate(y = y)\n",
    "    Spec = librosa.feature.melspectrogram(y=y)\n",
    "    Spec = librosa.amplitude_to_db(Spec)\n",
    "    MFCC = librosa.feature.mfcc(y=y)\n",
    "    Chroma = librosa.feature.chroma_stft(y=y)\n",
    "    return np.concatenate(([RMS.mean(), RMS.var(), ZCR.mean(), ZCR.var()], Chroma.mean(axis=1), Chroma.var(axis=1), MFCC.mean(axis=1), MFCC.var(axis=1)))"
   ]
  },
  {
   "cell_type": "code",
   "execution_count": 6,
   "metadata": {},
   "outputs": [],
   "source": [
    "songSummaries = np.array([summarize(x) for x in songs])\n",
    "songs = [x[x.rindex('/')+4:] for x in songs]"
   ]
  },
  {
   "cell_type": "code",
   "execution_count": 56,
   "metadata": {},
   "outputs": [],
   "source": [
    "RMSmeanmean, RMSmeanvar = songSummaries[:,0].mean(), songSummaries[:,0].var()\n",
    "RMSvarmean, RMSvarvar = songSummaries[:,1].mean(), songSummaries[:,1].var()\n",
    "ZCRmeanmean, ZCRmeanvar = songSummaries[:,2].mean(), songSummaries[:,2].var()\n",
    "ZCRvarmean, ZCRvarvar = songSummaries[:,3].mean(), songSummaries[:,3].var()\n",
    "CHROMAmeanmean, CHROMAmeanvar = songSummaries[:,4:16].mean(), songSummaries[:,4:16].var()\n",
    "CHROMAvarmean, CHROMAvarvar = songSummaries[:,16:28].mean(), songSummaries[:,16:28].var()\n",
    "MFCCmeanmean, MFCCmeanvar = songSummaries[:,28:48].mean(), songSummaries[:,28:48].var()\n",
    "MFCCvarmean, MFCCvarvar = songSummaries[:,48:68].mean(), songSummaries[:,48:68].var()"
   ]
  },
  {
   "cell_type": "code",
   "execution_count": 129,
   "metadata": {},
   "outputs": [],
   "source": [
    "def Standardize(y):\n",
    "    return np.concatenate((\n",
    "        [\n",
    "            (y[0] - RMSmeanmean) / math.sqrt(RMSmeanvar),\n",
    "            (y[1] - RMSvarmean) / math.sqrt(RMSvarvar),\n",
    "            (y[2] - ZCRmeanmean) / math.sqrt(ZCRmeanvar),\n",
    "            (y[3] - ZCRvarmean) / math.sqrt(ZCRvarvar),\n",
    "        ], (y[4:16] - CHROMAmeanmean) / (math.sqrt(CHROMAmeanvar) * 12),\n",
    "        (y[16:28] - CHROMAvarmean) / (math.sqrt(CHROMAvarvar) * 12),\n",
    "        (y[28:48] - MFCCmeanmean) / (math.sqrt(MFCCmeanvar) * 20),\n",
    "        (y[48:68] - MFCCvarmean) / (math.sqrt(MFCCvarvar) * 20)\n",
    "    ))\n"
   ]
  },
  {
   "cell_type": "code",
   "execution_count": 130,
   "metadata": {},
   "outputs": [],
   "source": [
    "scaledSummaries = np.array([Standardize(x) for x in songSummaries])\n",
    "\n",
    "#scaler = StandardScaler().fit(songSummaries)\n",
    "#scaledSummaries = scaler.transform(songSummaries)"
   ]
  },
  {
   "cell_type": "code",
   "execution_count": 132,
   "metadata": {},
   "outputs": [
    {
     "data": {
      "text/plain": [
       "<matplotlib.legend.Legend at 0x7f54ac25fe20>"
      ]
     },
     "execution_count": 132,
     "metadata": {},
     "output_type": "execute_result"
    },
    {
     "data": {
      "image/png": "[encoded data removed]",
      "text/plain": [
       "<Figure size 576x432 with 1 Axes>"
      ]
     },
     "metadata": {
      "needs_background": "light"
     },
     "output_type": "display_data"
    }
   ],
   "source": [
    "lowest_bic = np.infty\n",
    "bic = []\n",
    "n_components_range = range(2, 7)\n",
    "cv_types = [\"spherical\", \"tied\", \"diag\", \"full\"]\n",
    "for cv_type in cv_types:\n",
    "    for n_components in n_components_range:\n",
    "        # Fit a Gaussian mixture with EM\n",
    "        gmm = GaussianMixture(\n",
    "            n_components=n_components, covariance_type=cv_type\n",
    "        )\n",
    "        gmm.fit(scaledSummaries)\n",
    "        bic.append(gmm.bic(scaledSummaries))\n",
    "        if bic[-1] < lowest_bic:\n",
    "            lowest_bic = bic[-1]\n",
    "            best_gmm = gmm\n",
    "\n",
    "bic = np.array(bic)\n",
    "color_iter = itertools.cycle([\"navy\", \"turquoise\", \"cornflowerblue\", \"darkorange\"])\n",
    "clf = best_gmm\n",
    "bars = []\n",
    "\n",
    "# Plot the BIC scores\n",
    "plt.figure(figsize=(8, 6))\n",
    "spl = plt.subplot(2, 1, 1)\n",
    "for i, (cv_type, color) in enumerate(zip(cv_types, color_iter)):\n",
    "    xpos = np.array(n_components_range) + 0.2 * (i - 2)\n",
    "    bars.append(\n",
    "        plt.bar(\n",
    "            xpos,\n",
    "            bic[i * len(n_components_range) : (i + 1) * len(n_components_range)],\n",
    "            width=0.2,\n",
    "            color=color,\n",
    "        )\n",
    "    )\n",
    "plt.xticks(n_components_range)\n",
    "plt.ylim([bic.min() * 1.01 - 0.01 * bic.max(), bic.max()])\n",
    "plt.title(\"BIC score per model\")\n",
    "xpos = (\n",
    "    np.mod(bic.argmin(), len(n_components_range))\n",
    "    + 0.65\n",
    "    + 0.2 * np.floor(bic.argmin() / len(n_components_range))\n",
    ")\n",
    "spl.set_xlabel(\"Number of components\")\n",
    "spl.legend([b[0] for b in bars], cv_types)"
   ]
  },
  {
   "cell_type": "code",
   "execution_count": 133,
   "metadata": {},
   "outputs": [],
   "source": [
    "Y_ = clf.predict(scaledSummaries)"
   ]
  },
  {
   "cell_type": "code",
   "execution_count": 134,
   "metadata": {},
   "outputs": [
    {
     "name": "stdout",
     "output_type": "stream",
     "text": [
      "0\n",
      "['River (Acoustic).m4a' 'Skinny Love.m4a' \"Let's Pretend.m4a\" 'Nickel.m4a'\n",
      " 'Fighting in the Car.m4a' 'First Class.m4a' 'Young Adult.m4a'\n",
      " \"I'm Not Making out With You.m4a\" 'Out of Tune.m4a' 'Elevator Days.m4a'\n",
      " 'Is This It.m4a' 'The Gardener.m4a']\n",
      "1\n",
      "['Down the Line.m4a' 'Shark Smile.m4a' 'Good Old Days.m4a'\n",
      " 'Blood Bank.m4a' 'Caroline.m4a' 'Aberdeen.m4a' 'Bags.m4a' 'High Tops.m4a'\n",
      " 'Six Below.m4a' 'Raspberry.m4a' 'The Knock.m4a' 'Horseshoe Crabs.m4a'\n",
      " 'Shape of My Hands.m4a' 'Stella Brown.m4a' 'Cooke.m4a' 'Kyoto.m4a'\n",
      " 'Motion Sickness.m4a' 'Cocaine Jesus.m4a' 'Devil Like Me.m4a'\n",
      " 'Elvis Is in the Freezer.m4a' 'Camilo - The Magician.m4a'\n",
      " 'Dearly Departed.m4a' 'Your Dog.m4a' 'Watch Your Mouth.m4a'\n",
      " 'Dionysus.m4a' 'Duele Más.m4a' 'Secretariat.m4a' 'The Word Lisa.m4a'\n",
      " 'Drunk on Halloween.m4a' 'Lilacs.m4a' 'I Think I Like When It Rains.m4a'\n",
      " 'Bodega.m4a']\n"
     ]
    }
   ],
   "source": [
    "predSongs = np.array([[songs[x], Y_[x]] for x in range(len(songs))])\n",
    "for attr in np.unique(Y_):\n",
    "    print(attr)\n",
    "    print(predSongs[predSongs[:,1]==str(attr)][:,0])"
   ]
  },
  {
   "cell_type": "code",
   "execution_count": 123,
   "metadata": {},
   "outputs": [
    {
     "data": {
      "text/plain": [
       "array([['Down the Line.m4a', '2'],\n",
       "       ['Shark Smile.m4a', '3'],\n",
       "       ['Good Old Days.m4a', '1'],\n",
       "       ['River (Acoustic).m4a', '1'],\n",
       "       ['Blood Bank.m4a', '0'],\n",
       "       ['Skinny Love.m4a', '4'],\n",
       "       ['Caroline.m4a', '0'],\n",
       "       ['Aberdeen.m4a', '3'],\n",
       "       ['Bags.m4a', '3'],\n",
       "       [\"Let's Pretend.m4a\", '4'],\n",
       "       ['High Tops.m4a', '0'],\n",
       "       ['Six Below.m4a', '2'],\n",
       "       ['Nickel.m4a', '2'],\n",
       "       ['Raspberry.m4a', '4'],\n",
       "       ['The Knock.m4a', '2'],\n",
       "       ['Horseshoe Crabs.m4a', '2'],\n",
       "       ['Shape of My Hands.m4a', '1'],\n",
       "       ['Stella Brown.m4a', '2'],\n",
       "       ['Fighting in the Car.m4a', '1'],\n",
       "       ['Cooke.m4a', '1'],\n",
       "       ['Kyoto.m4a', '3'],\n",
       "       ['Motion Sickness.m4a', '3'],\n",
       "       ['Cocaine Jesus.m4a', '2'],\n",
       "       ['First Class.m4a', '1'],\n",
       "       ['Devil Like Me.m4a', '2'],\n",
       "       ['Elvis Is in the Freezer.m4a', '3'],\n",
       "       ['Young Adult.m4a', '1'],\n",
       "       ['Camilo - The Magician.m4a', '3'],\n",
       "       ['Dearly Departed.m4a', '0'],\n",
       "       ['Your Dog.m4a', '2'],\n",
       "       [\"I'm Not Making out With You.m4a\", '4'],\n",
       "       ['Out of Tune.m4a', '1'],\n",
       "       ['Elevator Days.m4a', '1'],\n",
       "       ['Watch Your Mouth.m4a', '1'],\n",
       "       ['Dionysus.m4a', '3'],\n",
       "       ['Duele Más.m4a', '0'],\n",
       "       ['Secretariat.m4a', '3'],\n",
       "       ['Is This It.m4a', '4'],\n",
       "       ['The Gardener.m4a', '5'],\n",
       "       ['The Word Lisa.m4a', '2'],\n",
       "       ['Drunk on Halloween.m4a', '3'],\n",
       "       ['Lilacs.m4a', '0'],\n",
       "       ['I Think I Like When It Rains.m4a', '3'],\n",
       "       ['Bodega.m4a', '4']], dtype='<U32')"
      ]
     },
     "execution_count": 123,
     "metadata": {},
     "output_type": "execute_result"
    }
   ],
   "source": [
    "predSongs"
   ]
  },
  {
   "cell_type": "code",
   "execution_count": null,
   "metadata": {},
   "outputs": [],
   "source": []
  },
  {
   "cell_type": "code",
   "execution_count": null,
   "metadata": {},
   "outputs": [],
   "source": []
  }
 ],
 "metadata": {
  "interpreter": {
   "hash": "e7370f93d1d0cde622a1f8e1c04877d8463912d04d973331ad4851f04de6915a"
  },
  "kernelspec": {
   "display_name": "Python 3.10.5 64-bit",
   "language": "python",
   "name": "python3"
  },
  "language_info": {
   "codemirror_mode": {
    "name": "ipython",
    "version": 3
   },
   "file_extension": ".py",
   "mimetype": "text/x-python",
   "name": "python",
   "nbconvert_exporter": "python",
   "pygments_lexer": "ipython3",
   "version": "3.10.5"
  },
  "orig_nbformat": 4
 },
 "nbformat": 4,
 "nbformat_minor": 2
}
